{
 "cells": [
  {
   "cell_type": "code",
   "execution_count": 1,
   "id": "dc13526d-328b-456b-a657-615707d7bbe4",
   "metadata": {},
   "outputs": [],
   "source": [
    "import torch\n",
    "import torchvision.models as models\n",
    "import warnings\n",
    "import os\n",
    "import random\n",
    "import cv2\n",
    "import faiss\n",
    "import torch.nn as nn\n",
    "import matplotlib.pyplot as plt\n",
    "import albumentations as A\n",
    "import torch.optim as optim\n",
    "import numpy as np\n",
    "import torch.nn.functional as F\n",
    "\n",
    "from torchvision.models import ResNet50_Weights\n",
    "from torch.utils.data import Dataset\n",
    "from torch.utils.data import DataLoader\n",
    "from PIL import Image"
   ]
  },
  {
   "cell_type": "code",
   "execution_count": 2,
   "id": "e7f51b32-7d9c-4f13-add2-097dd6bbb0c1",
   "metadata": {
    "scrolled": true
   },
   "outputs": [
    {
     "name": "stderr",
     "output_type": "stream",
     "text": [
      "[2023-07-04 13:47:33] INFO - crash_tips_setup.py - Crash tips is enabled. You can set your environment variable to CRASH_HANDLER=FALSE to disable it\n"
     ]
    },
    {
     "name": "stdout",
     "output_type": "stream",
     "text": [
      "The console stream is logged into /opt/ml/sg_logs/console.log\n"
     ]
    },
    {
     "name": "stderr",
     "output_type": "stream",
     "text": [
      "/opt/conda/lib/python3.8/site-packages/_distutils_hack/__init__.py:33: UserWarning: Setuptools is replacing distutils.\n",
      "  warnings.warn(\"Setuptools is replacing distutils.\")\n",
      "[2023-07-04 13:47:37] WARNING - __init__.py - Failed to import pytorch_quantization\n",
      "[2023-07-04 13:47:37] WARNING - calibrator.py - Failed to import pytorch_quantization\n",
      "[2023-07-04 13:47:37] WARNING - export.py - Failed to import pytorch_quantization\n",
      "[2023-07-04 13:47:37] WARNING - selective_quantization_utils.py - Failed to import pytorch_quantization\n"
     ]
    }
   ],
   "source": [
    "from association import *\n",
    "from detection import Yolo_Nas_L\n",
    "from utils import draw_bbox_label, make_predicted_video, cal"
   ]
  },
  {
   "cell_type": "markdown",
   "id": "d7cfacf3-9b54-431b-a255-4aa48096311c",
   "metadata": {},
   "source": [
    "# Detection 모델 준비"
   ]
  },
  {
   "cell_type": "code",
   "execution_count": 3,
   "id": "12dbcb4a-afa8-47cf-bc01-f57fd167c0f3",
   "metadata": {},
   "outputs": [
    {
     "name": "stderr",
     "output_type": "stream",
     "text": [
      "[2023-07-04 13:47:42] INFO - checkpoint_utils.py - Successfully loaded model weights from /opt/ml/clone/yolo_nas/weight/yolo_nas_l_version4/ckpt_best.pth EMA checkpoint.\n"
     ]
    },
    {
     "name": "stdout",
     "output_type": "stream",
     "text": [
      "weight loaded!!\n"
     ]
    }
   ],
   "source": [
    "det_weight_path = '/opt/ml/clone/yolo_nas/weight/yolo_nas_l_version4/ckpt_best.pth'\n",
    "detect_model = Yolo_Nas_L(num_classes=6, checkpoint_path=det_weight_path).cuda()"
   ]
  },
  {
   "cell_type": "markdown",
   "id": "a0f2fdaa-6c37-41b6-adca-088d984cb68a",
   "metadata": {},
   "source": [
    "# Re-ID 모델 준비"
   ]
  },
  {
   "cell_type": "code",
   "execution_count": 4,
   "id": "a882fd2e-6cbf-40c4-a1b4-4ef995f8d797",
   "metadata": {},
   "outputs": [
    {
     "data": {
      "text/plain": [
       "<All keys matched successfully>"
      ]
     },
     "execution_count": 4,
     "metadata": {},
     "output_type": "execute_result"
    }
   ],
   "source": [
    "#gallery-dataset\n",
    "gallery_path = '/opt/ml/total/association/gallery' # 1. Gallery 경로!\n",
    "tf = A.Compose([A.Resize(224,224),\n",
    "                 A.Normalize(mean=(0.485, 0.456, 0.406), std=(0.229, 0.224, 0.225))])\n",
    "gallery_dataset= ETHZ_GALLERY(gallery_path, tf)\n",
    "gallery_dataset = DataLoader(gallery_dataset, batch_size=128, shuffle=False, num_workers=0, pin_memory=False, drop_last=True)\n",
    "\n",
    "\n",
    "#re_id_model\n",
    "re_weight_path = '/opt/ml/total/weight/association/latest.pth' # 2. re_id model weight file 경로!\n",
    "id_num_classes = 4\n",
    "re_id_model = ResNet_Triplet(num_classes=id_num_classes).cuda()\n",
    "re_id_model.load_state_dict(torch.load(os.path.join(re_weight_path)))"
   ]
  },
  {
   "cell_type": "markdown",
   "id": "56c3a90e-72a7-4389-9d9c-2070ac003d54",
   "metadata": {},
   "source": [
    "# Video Inference"
   ]
  },
  {
   "cell_type": "code",
   "execution_count": 5,
   "id": "7bcbc4ec-a769-4c8f-a7d2-4564c0fc9df9",
   "metadata": {},
   "outputs": [],
   "source": [
    "video_path = './test_video_short.mp4'\n",
    "save_path = './predict.mp4'\n",
    "thr=0.6"
   ]
  },
  {
   "cell_type": "code",
   "execution_count": 6,
   "id": "f7d8d810-02f2-4399-afda-bb39fcb8bb67",
   "metadata": {},
   "outputs": [
    {
     "name": "stderr",
     "output_type": "stream",
     "text": [
      "100%|██████████| 624/624.0 [1:34:03<00:00,  9.04s/it]\n"
     ]
    }
   ],
   "source": [
    "make_predicted_video(detect_model, re_id_model, video_path, save_path, gallery_dataset, id_num_classes=id_num_classes, thr=0.5)"
   ]
  },
  {
   "cell_type": "code",
   "execution_count": null,
   "id": "f21ecb52-90e0-4bf6-93d8-b22c28f20ffa",
   "metadata": {},
   "outputs": [],
   "source": []
  }
 ],
 "metadata": {
  "kernelspec": {
   "display_name": "super2",
   "language": "python",
   "name": "super"
  },
  "language_info": {
   "codemirror_mode": {
    "name": "ipython",
    "version": 3
   },
   "file_extension": ".py",
   "mimetype": "text/x-python",
   "name": "python",
   "nbconvert_exporter": "python",
   "pygments_lexer": "ipython3",
   "version": "3.8.16"
  }
 },
 "nbformat": 4,
 "nbformat_minor": 5
}
