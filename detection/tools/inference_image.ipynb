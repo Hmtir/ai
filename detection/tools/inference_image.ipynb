{
 "cells": [
  {
   "cell_type": "code",
   "execution_count": null,
   "id": "2790d2f5",
   "metadata": {},
   "outputs": [],
   "source": [
    "from super_gradients.training import models\n",
    "from super_gradients.common.object_names import Models\n",
    "import matplotlib.pyplot as plt\n",
    "import cv2\n",
    "\n",
    "\n",
    "IMAGE_PATH = '/opt/ml/final_project/test.jpg'\n",
    "checkpoint_path = '/opt/ml/final_project/super_gradients/workspace/final/ckpt_best.pth'\n",
    "\n",
    "net = models.get(Models.YOLO_NAS_L, num_classes=6, checkpoint_path=checkpoint_path).cuda()"
   ]
  },
  {
   "cell_type": "code",
   "execution_count": null,
   "id": "6eafeb85",
   "metadata": {},
   "outputs": [],
   "source": [
    "class_names = ['', 'ball', 'made', 'person', 'rim', 'shoot']\n",
    "\n",
    "image = cv2.imread(IMAGE_PATH)\n",
    "image = cv2.cvtColor(image, cv2.COLOR_BGR2RGB)\n",
    "\n",
    "prediction = net.predict(image, fuse_model=False)\n",
    "frame_prediction = prediction[0]\n",
    "\n",
    "labels = frame_prediction.prediction.labels\n",
    "confidence = frame_prediction.prediction.confidence\n",
    "bboxes = frame_prediction.prediction.bboxes_xyxy\n",
    "\n",
    "fig, ax = plt.subplots(1, figsize=(12, 8))\n",
    "ax.imshow(image)\n",
    "\n",
    "# Draw bounding boxes on the image\n",
    "for label, conf, bbox in zip(labels, confidence, bboxes):\n",
    "    x1, y1, x2, y2 = bbox\n",
    "    rect = plt.Rectangle((x1, y1), x2 - x1, y2 - y1, fill=False, linewidth=1)\n",
    "    ax.add_patch(rect)\n",
    "\n",
    "    # Convert label index to class name\n",
    "    class_index = int(label)\n",
    "    class_name = class_names[class_index]\n",
    "\n",
    "    # Adjust label position\n",
    "    text_x, text_y = x1, y1 - 10\n",
    "    if text_y < 10:\n",
    "        text_y = y2 + 10\n",
    "\n",
    "    ax.text(text_x, text_y, f'{class_name}: {conf:.2f}', fontsize=6, color='white')\n",
    "\n",
    "plt.axis('off')\n",
    "plt.show()"
   ]
  },
  {
   "cell_type": "code",
   "execution_count": null,
   "id": "259b0796",
   "metadata": {},
   "outputs": [],
   "source": []
  }
 ],
 "metadata": {
  "kernelspec": {
   "display_name": "Python 3 (ipykernel)",
   "language": "python",
   "name": "python3"
  },
  "language_info": {
   "codemirror_mode": {
    "name": "ipython",
    "version": 3
   },
   "file_extension": ".py",
   "mimetype": "text/x-python",
   "name": "python",
   "nbconvert_exporter": "python",
   "pygments_lexer": "ipython3",
   "version": "3.8.16"
  }
 },
 "nbformat": 4,
 "nbformat_minor": 5
}
