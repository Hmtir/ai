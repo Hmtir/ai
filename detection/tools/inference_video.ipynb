{
 "cells": [
  {
   "cell_type": "code",
   "execution_count": null,
   "id": "5ad06f66-25c4-45c8-afdb-c089f2b8c6ea",
   "metadata": {},
   "outputs": [],
   "source": [
    "from super_gradients.training import models\n",
    "from super_gradients.common.object_names import Models\n",
    "from tqdm import tqdm\n",
    "import cv2\n",
    "\n",
    "\n",
    "VIDEO_PATH = '/opt/ml/final_project/video/test.mp4'\n",
    "checkpoint_path = '/opt/ml/final_project/super_gradients/workspace/final/ckpt_best.pth'\n",
    "\n",
    "net = models.get(Models.YOLO_NAS_L, num_classes=6, checkpoint_path=checkpoint_path).cuda()"
   ]
  },
  {
   "cell_type": "code",
   "execution_count": null,
   "id": "cecfe83c-5873-4aa4-a364-76e7db3ecb95",
   "metadata": {},
   "outputs": [],
   "source": [
    "prediction1 = net.predict(VIDEO_PATH, fuse_model=False)"
   ]
  },
  {
   "cell_type": "code",
   "execution_count": null,
   "id": "0d55e400-b195-493a-a5c1-f75388bea4f2",
   "metadata": {},
   "outputs": [],
   "source": [
    "cap = cv2.VideoCapture(VIDEO_PATH)\n",
    "\n",
    "if not cap.isOpened():\n",
    "    print(\"Video open failed!\")\n",
    "\n",
    "fps = cap.get(cv2.CAP_PROP_FPS)\n",
    "w = int(cap.get(cv2.CAP_PROP_FRAME_WIDTH))\n",
    "h = int(cap.get(cv2.CAP_PROP_FRAME_HEIGHT))\n",
    "\n",
    "video_out = cv2.VideoWriter(VIDEO_PATH.split('/')[-1].split('.')[0] + '_test.mp4', cv2.VideoWriter_fourcc(*'mp4v'), fps, (w, h))\n"
   ]
  },
  {
   "cell_type": "code",
   "execution_count": null,
   "id": "7eb8cb37-7b17-47bc-a716-12e4c8e06b89",
   "metadata": {},
   "outputs": [],
   "source": [
    "# Save Detection Results to each frame\n",
    "with tqdm(total = len(prediction1)) as pbar:\n",
    "    for frame_index, frame_prediction in enumerate(prediction1):\n",
    "        labels = frame_prediction.prediction.labels\n",
    "        confidence = frame_prediction.prediction.confidence\n",
    "        bboxes = frame_prediction.prediction.bboxes_xyxy\n",
    "        frame = frame_prediction.draw(box_thickness=1)\n",
    "        \n",
    "        video_out.write(cv2.cvtColor(frame, cv2.COLOR_RGB2BGR))\n",
    "        pbar.update(1)\n",
    "\n",
    "video_out.release()"
   ]
  },
  {
   "cell_type": "code",
   "execution_count": null,
   "id": "9716e9cd-920f-40f0-8dcd-6fdc9ba5bc7e",
   "metadata": {},
   "outputs": [],
   "source": []
  }
 ],
 "metadata": {
  "kernelspec": {
   "display_name": "Python 3 (ipykernel)",
   "language": "python",
   "name": "python3"
  },
  "language_info": {
   "codemirror_mode": {
    "name": "ipython",
    "version": 3
   },
   "file_extension": ".py",
   "mimetype": "text/x-python",
   "name": "python",
   "nbconvert_exporter": "python",
   "pygments_lexer": "ipython3",
   "version": "3.8.16"
  }
 },
 "nbformat": 4,
 "nbformat_minor": 5
}
